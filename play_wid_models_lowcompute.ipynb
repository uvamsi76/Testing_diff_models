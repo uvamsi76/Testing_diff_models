{
 "cells": [
  {
   "cell_type": "code",
   "execution_count": 1,
   "metadata": {},
   "outputs": [
    {
     "name": "stderr",
     "output_type": "stream",
     "text": [
      "/home/vamsi/Desktop/projects/AI projects/Testing_diff_models/venv/lib/python3.12/site-packages/tqdm/auto.py:21: TqdmWarning: IProgress not found. Please update jupyter and ipywidgets. See https://ipywidgets.readthedocs.io/en/stable/user_install.html\n",
      "  from .autonotebook import tqdm as notebook_tqdm\n"
     ]
    }
   ],
   "source": [
    "from transformers import pipeline , AutoModelForCausalLM, AutoTokenizer\n",
    "import torch\n",
    "import torch.nn.functional as F\n",
    "from utils import tokenize_hfmodel_inputs"
   ]
  },
  {
   "cell_type": "code",
   "execution_count": 8,
   "metadata": {},
   "outputs": [],
   "source": [
    "low_compute=['mistralai/Mistral-7B-v0.3','google/gemma-2b','microsoft/phi-2','meta-llama/Llama-2-7b-hf','teknium/OpenHermes-2.5-Mistral-7B','meta-llama/Llama-3.1-8B','microsoft/Phi-3-mini-128k-instruct']\n",
    "instruct_counter_part=['mistralai/Mistral-7B-Instruct-v0.3']"
   ]
  },
  {
   "cell_type": "markdown",
   "metadata": {},
   "source": [
    "Text completions"
   ]
  },
  {
   "cell_type": "code",
   "execution_count": null,
   "metadata": {},
   "outputs": [],
   "source": [
    "model_name=\"google/gemma-2b\""
   ]
  },
  {
   "cell_type": "code",
   "execution_count": null,
   "metadata": {},
   "outputs": [],
   "source": [
    "sample_text=\"How to mak a sandwich\"\n",
    "\n",
    "model=AutoModelForCausalLM.from_pretrained(model_name)\n",
    "tokens,tokeniser=tokenize_hfmodel_inputs(sample_text,model_name,'cpu')\n",
    "x=tokens\n",
    "for _ in range(50):\n",
    "    ops=model(input_ids=x)\n",
    "    logits=ops.logits\n",
    "    probs=F.softmax(logits[:,-1,:],dim=-1)\n",
    "\n",
    "    next_token=torch.multinomial(probs.view(probs.shape[1]),1)\n",
    "\n",
    "    x=torch.cat([x,next_token.view(1,1)],dim=-1)\n",
    "op=''\n",
    "for i in x.tolist():\n",
    "    op=op+tokeniser.decode(i)\n",
    "print(op)"
   ]
  },
  {
   "cell_type": "markdown",
   "metadata": {},
   "source": [
    "Chat"
   ]
  },
  {
   "cell_type": "code",
   "execution_count": 2,
   "metadata": {},
   "outputs": [],
   "source": [
    "model_name=\"google/gemma-2b-it\""
   ]
  },
  {
   "cell_type": "code",
   "execution_count": null,
   "metadata": {},
   "outputs": [],
   "source": [
    "sample_text=\"write a c program to print first 5 numbers of fibonacci series.\"\n",
    "model=AutoModelForCausalLM.from_pretrained(model_name)\n",
    "tokeniser=AutoTokenizer.from_pretrained(model)\n",
    "messages = [{\"role\": \"user\", \"content\": sample_text}]\n",
    "prompt = tokeniser.apply_chat_template(messages, tokenize=False, add_generation_prompt=True)\n",
    "input_ids = tokeniser(prompt, return_tensors=\"pt\")\n",
    "output_ids = model.generate(input_ids.input_ids,max_length=200,do_sample=True,temperature=0.7,top_p=0.9)\n",
    "response = tokeniser.decode(output_ids[0], skip_special_tokens=True)\n",
    "print(response)"
   ]
  },
  {
   "cell_type": "code",
   "execution_count": null,
   "metadata": {},
   "outputs": [],
   "source": [
    "messages.append({\"role\": \"assistant\", \"content\": response})\n",
    "messages.append({\"role\": \"user\", \"content\": \"But you did not write c=a+b anywhere\"})\n",
    "\n",
    "prompt = tokeniser.apply_chat_template(messages, tokenize=False, add_generation_prompt=True)\n",
    "input_ids = tokeniser(prompt, return_tensors=\"pt\")\n",
    "\n",
    "output_ids = model.generate(input_ids.input_ids, max_length=1200, do_sample=True, top_p=0.9)\n",
    "response = tokeniser.decode(output_ids[0], skip_special_tokens=True)\n",
    "\n",
    "print(response)\n"
   ]
  },
  {
   "cell_type": "code",
   "execution_count": null,
   "metadata": {},
   "outputs": [],
   "source": []
  }
 ],
 "metadata": {
  "kernelspec": {
   "display_name": "venv",
   "language": "python",
   "name": "python3"
  },
  "language_info": {
   "codemirror_mode": {
    "name": "ipython",
    "version": 3
   },
   "file_extension": ".py",
   "mimetype": "text/x-python",
   "name": "python",
   "nbconvert_exporter": "python",
   "pygments_lexer": "ipython3",
   "version": "3.12.3"
  }
 },
 "nbformat": 4,
 "nbformat_minor": 2
}
