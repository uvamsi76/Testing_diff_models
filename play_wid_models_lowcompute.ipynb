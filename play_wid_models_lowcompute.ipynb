{
 "cells": [
  {
   "cell_type": "code",
   "execution_count": 1,
   "metadata": {},
   "outputs": [
    {
     "name": "stderr",
     "output_type": "stream",
     "text": [
      "/home/Testing_diff_models/venv/lib/python3.10/site-packages/tqdm/auto.py:21: TqdmWarning: IProgress not found. Please update jupyter and ipywidgets. See https://ipywidgets.readthedocs.io/en/stable/user_install.html\n",
      "  from .autonotebook import tqdm as notebook_tqdm\n"
     ]
    }
   ],
   "source": [
    "from transformers import pipeline , AutoModelForCausalLM, AutoTokenizer\n",
    "import torch\n",
    "import torch.nn.functional as F\n",
    "from utils import tokenize_hfmodel_inputs\n",
    "device='cuda' if torch.cuda.is_available() else 'cpu'"
   ]
  },
  {
   "cell_type": "code",
   "execution_count": 1,
   "metadata": {},
   "outputs": [],
   "source": [
    "low_compute=['mistralai/Mistral-7B-v0.3','google/gemma-2b','microsoft/phi-2','meta-llama/Llama-2-7b-hf','teknium/OpenHermes-2.5-Mistral-7B','meta-llama/Llama-3.1-8B','microsoft/Phi-3-mini-128k-instruct']\n",
    "instruct_counter_part=['mistralai/Mistral-7B-Instruct-v0.3','meta-llama/Llama-2-7b-chat-hf']"
   ]
  },
  {
   "cell_type": "markdown",
   "metadata": {},
   "source": [
    "Text completions"
   ]
  },
  {
   "cell_type": "code",
   "execution_count": 3,
   "metadata": {},
   "outputs": [],
   "source": [
    "model_name=low_compute[3]"
   ]
  },
  {
   "cell_type": "code",
   "execution_count": 4,
   "metadata": {},
   "outputs": [
    {
     "name": "stderr",
     "output_type": "stream",
     "text": [
      "Downloading shards: 100%|██████████| 2/2 [08:05<00:00, 242.74s/it]\n",
      "Loading checkpoint shards: 100%|██████████| 2/2 [00:37<00:00, 18.50s/it]\n"
     ]
    }
   ],
   "source": [
    "model=AutoModelForCausalLM.from_pretrained(model_name).to(device)"
   ]
  },
  {
   "cell_type": "code",
   "execution_count": 5,
   "metadata": {},
   "outputs": [
    {
     "name": "stderr",
     "output_type": "stream",
     "text": [
      "/home/Testing_diff_models/utils.py:17: UserWarning: To copy construct from a tensor, it is recommended to use sourceTensor.clone().detach() or sourceTensor.clone().detach().requires_grad_(True), rather than torch.tensor(sourceTensor).\n",
      "  tokens=torch.tensor(tokens).view(1,tokens.shape[0])\n"
     ]
    }
   ],
   "source": [
    "sample_text=\"How to make a sandwich\"\n",
    "\n",
    "\n",
    "tokens,tokeniser=tokenize_hfmodel_inputs(sample_text,model_name,'cpu')\n",
    "x=tokens.to(device)\n",
    "for _ in range(50):\n",
    "    ops=model(input_ids=x)\n",
    "    logits=ops.logits\n",
    "    probs=F.softmax(logits[:,-1,:],dim=-1)\n",
    "\n",
    "    next_token=torch.multinomial(probs.view(probs.shape[1]),1)\n",
    "\n",
    "    x=torch.cat([x,next_token.view(1,1)],dim=-1)\n",
    "op=''\n",
    "for i in x.tolist():\n",
    "    op=op+tokeniser.decode(i)"
   ]
  },
  {
   "cell_type": "code",
   "execution_count": 6,
   "metadata": {},
   "outputs": [
    {
     "name": "stdout",
     "output_type": "stream",
     "text": [
      "<s> How to make a sandwich- Smashburger style\n",
      "Words by Roberto Friedman, Smashburger\n",
      "Wing, fries, cheese curds…you make the call.\n",
      "For the Taskmasters, Royal Payne, Sophia Hilton and K\n"
     ]
    }
   ],
   "source": [
    "print(op)"
   ]
  },
  {
   "cell_type": "markdown",
   "metadata": {},
   "source": [
    "Chat"
   ]
  },
  {
   "cell_type": "code",
   "execution_count": 2,
   "metadata": {},
   "outputs": [
    {
     "name": "stderr",
     "output_type": "stream",
     "text": [
      "/home/Testing_diff_models/venv/lib/python3.10/site-packages/tqdm/auto.py:21: TqdmWarning: IProgress not found. Please update jupyter and ipywidgets. See https://ipywidgets.readthedocs.io/en/stable/user_install.html\n",
      "  from .autonotebook import tqdm as notebook_tqdm\n"
     ]
    }
   ],
   "source": [
    "from transformers import pipeline , AutoModelForCausalLM, AutoTokenizer, StoppingCriteria, StoppingCriteriaList\n",
    "import torch\n",
    "import torch.nn.functional as F\n",
    "from utils import tokenize_hfmodel_inputs\n",
    "device='cuda' if torch.cuda.is_available() else 'cpu'"
   ]
  },
  {
   "cell_type": "code",
   "execution_count": 3,
   "metadata": {},
   "outputs": [],
   "source": [
    "model_name=instruct_counter_part[1]"
   ]
  },
  {
   "cell_type": "code",
   "execution_count": 4,
   "metadata": {},
   "outputs": [
    {
     "name": "stderr",
     "output_type": "stream",
     "text": [
      "Loading checkpoint shards: 100%|██████████| 2/2 [01:28<00:00, 44.01s/it]\n"
     ]
    }
   ],
   "source": [
    "model=AutoModelForCausalLM.from_pretrained(model_name).to(device)\n",
    "tokeniser=AutoTokenizer.from_pretrained(model_name)"
   ]
  },
  {
   "cell_type": "code",
   "execution_count": 5,
   "metadata": {},
   "outputs": [],
   "source": [
    "class StopOnEos(StoppingCriteria):\n",
    "    def __call__(self, input_ids, scores, **kwargs):\n",
    "        # Check if the last generated token is the EOS token\n",
    "        eos_token_id = 50256  # Change this based on your model's tokenizer\n",
    "        return input_ids[0, -1] == eos_token_id\n",
    "\n",
    "stopping_criteria = StoppingCriteriaList([StopOnEos()])"
   ]
  },
  {
   "cell_type": "code",
   "execution_count": 6,
   "metadata": {},
   "outputs": [
    {
     "name": "stdout",
     "output_type": "stream",
     "text": [
      "[INST] How to make a sandwich [/INST]  Making a sandwich is a simple process that requires a few basic ingredients and some simple steps. Here's a step-by-step guide on how to make a sandwich:\n",
      "\n",
      "Ingredients:\n",
      "\n",
      "* Bread (white, whole wheat, or your choice of bread)\n",
      "* Filling ingredients (e.g., meats, cheeses, vegetables, condiments)\n",
      "* Spread (e.g., mayonnaise, mustard, hummus)\n",
      "\n",
      "Instructions:\n",
      "\n",
      "1. Lay out the bread slices: Place two slices of bread on a clean work surface.\n",
      "2. Add the filling ingredients: Place the filling ingredients on one of the bread slices, starting from the bottom. You can use meats like turkey, ham, or roast beef, cheeses like cheddar, Swiss, or mozzarella, vegetables like lettuce, tomato, or avocado, and condiments like mayonnaise, mustard, or hummus.\n",
      "3. Add the spread: Spread a layer of spread on top of the filling ingredients.\n",
      "4. Add the other bread slice: Place the other bread slice on top of the filling, spread side down.\n",
      "5. Cut the sandwich: Use a sharp knife to cut the sandwich into halves or quarters, depending on your preference.\n",
      "6. Serve and enjoy: Your sandwich is now ready to eat!\n",
      "\n",
      "Here are some additional tips to help you make the perfect sandwich:\n",
      "\n",
      "* Use high-quality ingredients: Fresh and flavorful ingredients will make a big difference in the taste and texture of your sandwich.\n",
      "* Don't be afraid to get creative: Experiment with different fillings and spreads to create a unique sandwich that suits your taste.\n",
      "* Use a serrated knife: A serrated knife will help you cut through the bread and filling ingredients easily and cleanly.\n",
      "* Don't overstuff the sandwich: Leave some space between the filling ingredients to prevent the bread from getting too squished or soggy.\n",
      "* Use a bread that complements the\n"
     ]
    }
   ],
   "source": [
    "sample_text=\"How to make a sandwich\"\n",
    "messages = [{\"role\": \"user\", \"content\": sample_text}]\n",
    "prompt = tokeniser.apply_chat_template(messages, tokenize=False, add_generation_prompt=True)\n",
    "input_ids = tokeniser(prompt, return_tensors=\"pt\").to(device)\n",
    "output_ids = model.generate(input_ids.input_ids,max_length=500,do_sample=True,temperature=0.7,top_p=0.9)\n",
    "response = tokeniser.decode(output_ids[0], skip_special_tokens=True)\n",
    "print(response)"
   ]
  },
  {
   "cell_type": "code",
   "execution_count": 8,
   "metadata": {},
   "outputs": [],
   "source": [
    "messages.append({\"role\": \"assistant\", \"content\": response})\n",
    "messages.append({\"role\": \"user\", \"content\": \"Given context Give me a crisp 2 line responce of it\"})"
   ]
  },
  {
   "cell_type": "code",
   "execution_count": 9,
   "metadata": {},
   "outputs": [
    {
     "data": {
      "text/plain": [
       "[{'role': 'user', 'content': 'How to make a sandwich'},\n",
       " {'role': 'assistant',\n",
       "  'content': \"[INST] How to make a sandwich [/INST]  Making a sandwich is a simple process that requires a few basic ingredients and some simple steps. Here's a step-by-step guide on how to make a sandwich:\\n\\nIngredients:\\n\\n* Bread (white, whole wheat, or your choice of bread)\\n* Filling ingredients (e.g., meats, cheeses, vegetables, condiments)\\n* Spread (e.g., mayonnaise, mustard, hummus)\\n\\nInstructions:\\n\\n1. Lay out the bread slices: Place two slices of bread on a clean work surface.\\n2. Add the filling ingredients: Place the filling ingredients on one of the bread slices, starting from the bottom. You can use meats like turkey, ham, or roast beef, cheeses like cheddar, Swiss, or mozzarella, vegetables like lettuce, tomato, or avocado, and condiments like mayonnaise, mustard, or hummus.\\n3. Add the spread: Spread a layer of spread on top of the filling ingredients.\\n4. Add the other bread slice: Place the other bread slice on top of the filling, spread side down.\\n5. Cut the sandwich: Use a sharp knife to cut the sandwich into halves or quarters, depending on your preference.\\n6. Serve and enjoy: Your sandwich is now ready to eat!\\n\\nHere are some additional tips to help you make the perfect sandwich:\\n\\n* Use high-quality ingredients: Fresh and flavorful ingredients will make a big difference in the taste and texture of your sandwich.\\n* Don't be afraid to get creative: Experiment with different fillings and spreads to create a unique sandwich that suits your taste.\\n* Use a serrated knife: A serrated knife will help you cut through the bread and filling ingredients easily and cleanly.\\n* Don't overstuff the sandwich: Leave some space between the filling ingredients to prevent the bread from getting too squished or soggy.\\n* Use a bread that complements the\"},\n",
       " {'role': 'user',\n",
       "  'content': 'Given context Give me a crisp 2 line responce of it'}]"
      ]
     },
     "execution_count": 9,
     "metadata": {},
     "output_type": "execute_result"
    }
   ],
   "source": [
    "messages"
   ]
  },
  {
   "cell_type": "code",
   "execution_count": 10,
   "metadata": {},
   "outputs": [
    {
     "name": "stdout",
     "output_type": "stream",
     "text": [
      "[INST] How to make a sandwich [/INST] [INST] How to make a sandwich [/INST]  Making a sandwich is a simple process that requires a few basic ingredients and some simple steps. Here's a step-by-step guide on how to make a sandwich:\n",
      "\n",
      "Ingredients:\n",
      "\n",
      "* Bread (white, whole wheat, or your choice of bread)\n",
      "* Filling ingredients (e.g., meats, cheeses, vegetables, condiments)\n",
      "* Spread (e.g., mayonnaise, mustard, hummus)\n",
      "\n",
      "Instructions:\n",
      "\n",
      "1. Lay out the bread slices: Place two slices of bread on a clean work surface.\n",
      "2. Add the filling ingredients: Place the filling ingredients on one of the bread slices, starting from the bottom. You can use meats like turkey, ham, or roast beef, cheeses like cheddar, Swiss, or mozzarella, vegetables like lettuce, tomato, or avocado, and condiments like mayonnaise, mustard, or hummus.\n",
      "3. Add the spread: Spread a layer of spread on top of the filling ingredients.\n",
      "4. Add the other bread slice: Place the other bread slice on top of the filling, spread side down.\n",
      "5. Cut the sandwich: Use a sharp knife to cut the sandwich into halves or quarters, depending on your preference.\n",
      "6. Serve and enjoy: Your sandwich is now ready to eat!\n",
      "\n",
      "Here are some additional tips to help you make the perfect sandwich:\n",
      "\n",
      "* Use high-quality ingredients: Fresh and flavorful ingredients will make a big difference in the taste and texture of your sandwich.\n",
      "* Don't be afraid to get creative: Experiment with different fillings and spreads to create a unique sandwich that suits your taste.\n",
      "* Use a serrated knife: A serrated knife will help you cut through the bread and filling ingredients easily and cleanly.\n",
      "* Don't overstuff the sandwich: Leave some space between the filling ingredients to prevent the bread from getting too squished or soggy.\n",
      "* Use a bread that complements the  [INST] Given context Give me a crisp 2 line responce of it [/INST]  Sure! Here is a crisp two-line response:\n",
      "\n",
      "To make a sandwich, lay out two slices of bread and add your desired filling ingredients in between. Cut the sandwich into halves or quarters and serve.\n"
     ]
    }
   ],
   "source": [
    "prompt = tokeniser.apply_chat_template(messages, tokenize=False, add_generation_prompt=True)\n",
    "input_ids = tokeniser(prompt, return_tensors=\"pt\").to(device)\n",
    "\n",
    "output_ids = model.generate(input_ids.input_ids, max_length=3400, do_sample=True, top_p=0.9)\n",
    "response = tokeniser.decode(output_ids[0], skip_special_tokens=True)\n",
    "\n",
    "print(response)\n"
   ]
  },
  {
   "cell_type": "markdown",
   "metadata": {},
   "source": [
    "Code"
   ]
  },
  {
   "cell_type": "code",
   "execution_count": null,
   "metadata": {},
   "outputs": [],
   "source": [
    "model_name=\"google/gemma-2b-it\""
   ]
  },
  {
   "cell_type": "code",
   "execution_count": null,
   "metadata": {},
   "outputs": [],
   "source": [
    "sample_text=\"write a c program to print first 5 numbers of fibonacci series.\"\n",
    "model=AutoModelForCausalLM.from_pretrained(model_name).to(device)\n",
    "tokeniser=AutoTokenizer.from_pretrained(model_name)\n",
    "messages = [{\"role\": \"user\", \"content\": sample_text}]\n",
    "prompt = tokeniser.apply_chat_template(messages, tokenize=False, add_generation_prompt=True)\n",
    "input_ids = tokeniser(prompt, return_tensors=\"pt\").to(device)\n",
    "output_ids = model.generate(input_ids.input_ids,max_length=200,do_sample=True,temperature=0.7,top_p=0.9)\n",
    "response = tokeniser.decode(output_ids[0], skip_special_tokens=True)\n",
    "print(response)"
   ]
  }
 ],
 "metadata": {
  "kernelspec": {
   "display_name": "venv",
   "language": "python",
   "name": "python3"
  },
  "language_info": {
   "codemirror_mode": {
    "name": "ipython",
    "version": 3
   },
   "file_extension": ".py",
   "mimetype": "text/x-python",
   "name": "python",
   "nbconvert_exporter": "python",
   "pygments_lexer": "ipython3",
   "version": "3.10.14"
  }
 },
 "nbformat": 4,
 "nbformat_minor": 2
}
